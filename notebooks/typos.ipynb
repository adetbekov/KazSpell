{
 "cells": [
  {
   "cell_type": "code",
   "execution_count": 3,
   "metadata": {},
   "outputs": [
    {
     "name": "stdout",
     "output_type": "stream",
     "text": [
      "Original: Қазақ тілі – мемлекеттік тіл.\n",
      "Typo: Қазақ тііл – мемлекеттік тіл.\n",
      "------------------------------\n",
      "Original: Мен мектепке бардым.\n",
      "Typo: Мне мектшпке бөардым.\n",
      "------------------------------\n",
      "Original: Бұл дұрыс емес.\n",
      "Typo: Бұл дұры емес.\n",
      "------------------------------\n",
      "Original: Бүгін ауа райы жақсы.\n",
      "Typo: Бүгін ауа рпайы жқсы.\n",
      "------------------------------\n"
     ]
    }
   ],
   "source": [
    "\n",
    "from src.utils.mistakers.typos import TypographicalMistaker\n",
    "\n",
    "# Initialize the mistaker with full Kazakh alphabet\n",
    "mistaker = TypographicalMistaker(error_probability=0.5)\n",
    "\n",
    "# Example text\n",
    "text_data = [\n",
    "    \"Қазақ тілі – мемлекеттік тіл.\",\n",
    "    \"Мен мектепке бардым.\",\n",
    "    \"Бұл дұрыс емес.\",\n",
    "    \"Бүгін ауа райы жақсы.\",\n",
    "]\n",
    "\n",
    "# Generate examples\n",
    "for text in text_data:\n",
    "    incorrect_text = mistaker.make_mistake(text)\n",
    "    print(f\"Original: {text}\")\n",
    "    print(f\"Typo: {incorrect_text}\")\n",
    "    print(\"-\" * 30)\n"
   ]
  },
  {
   "cell_type": "code",
   "execution_count": null,
   "metadata": {},
   "outputs": [],
   "source": []
  }
 ],
 "metadata": {
  "kernelspec": {
   "display_name": "kazspell-fcj1DpF8-py3.11",
   "language": "python",
   "name": "python3"
  },
  "language_info": {
   "codemirror_mode": {
    "name": "ipython",
    "version": 3
   },
   "file_extension": ".py",
   "mimetype": "text/x-python",
   "name": "python",
   "nbconvert_exporter": "python",
   "pygments_lexer": "ipython3",
   "version": "3.11.4"
  }
 },
 "nbformat": 4,
 "nbformat_minor": 2
}
